{
 "cells": [
  {
   "cell_type": "markdown",
   "metadata": {},
   "source": [
    "# Assignment 1: Transformations\n",
    "\n",
    "\n",
    "TEAM-ID:   \n",
    "TEAM-NAME:   \n",
    "YOUR-ID:   \n",
    "YOUR-NAME:    \n",
    "\n",
    "(Although you work in groups, both the students have to submit to Moodle, hence there's name field above)"
   ]
  },
  {
   "cell_type": "markdown",
   "metadata": {},
   "source": [
    "# Instructions\n",
    "- Please check Moodle for \"TEAM-ID\" and \"TEAM-NAME\" fields above. Some of your names have been edited because of redundancy/simplicity. Instructions for submitting the assignment through GitHub Classrooms/Moodle has been uploaded on Moodle. Any clarifications will be made there itself.\n",
    "- Code must be written in Python in Jupyter Notebooks. We highly recommend using anaconda distribution or at the minimum, virtual environments for this assignment. See `./misc/installation` for detailed step-by-step instructions about the installation setup.\n",
    "- Both the team members must submit the zip file.\n",
    "- For this assignment, you will be using Open3D extensively. Refer to [Open3D Documentation](http://www.open3d.org/docs/release/): you can use the in-built methods and **unless explicitly mentioned**, don't need to code from scratch for this assignment. Make sure your code is modular since you will be reusing them for future assignments.\n",
    "- Take a look at the entire assignment. The descriptive questions at the end might have a clue if you are stuck somewhere.\n",
    "- Answer the descriptive questions in your own words with context & clarity. Do not just copy-paste from some Wikipedia page. You will be evaluated accordingly.\n",
    "- Please call the visualization functions only when they are asked. They are asked explicitly at the end of every section.\n",
    "- You could split the Jupyter Notebook cells where `TODO` is written, but please try to avoid splitting/changing the structure of other cells."
   ]
  },
  {
   "cell_type": "code",
   "execution_count": 1,
   "metadata": {},
   "outputs": [],
   "source": [
    "import open3d as o3d\n",
    "import time\n",
    "import copy\n",
    "import numpy as np\n",
    "from scipy.linalg import logm\n",
    "from scipy.spatial.transform import Rotation as R\n",
    "from scipy.optimize import fsolve"
   ]
  },
  {
   "cell_type": "markdown",
   "metadata": {},
   "source": [
    "# 1. Getting started with Open3D\n",
    "## 1.1 Converting RGBD image into Point Cloud\n",
    "\n",
    "\n",
    "In your robotics journey, it is common to be given just the depth images along with camera parameters in a generic dataset and you'd want to build a 3D data representation out of it, for example, a point cloud. You will understand the math behind these concepts in detail during Vision classes, for now, you can use the in-built functions as a black box.\n",
    "- Below are the given RGB and D images from SUN RGB-D dataset ([S.Song, CVPR 2015](https://rgbd.cs.princeton.edu/)). \n",
    "![low-res-RGBD.resized.png](./misc/low-res-RGBD.png)\n",
    "\n",
    "- Read these two images `color.jpg` and `depth.png` given in current folder using Open3D. Convert it to a point cloud using the default camera parameters (`o3d.camera.PinholeCameraIntrinsicParameters.PrimeSenseDefault`).\n",
    "Then,\n",
    "- Create a \"world\" frame $A$ and combine this (just use $+$ operator) with the above point cloud and save it as `scene.pcd`. Put it aside for now.\n",
    "- Write a simple function `one_one` to visualize `scene.pcd`."
   ]
  },
  {
   "cell_type": "code",
   "execution_count": 2,
   "metadata": {},
   "outputs": [],
   "source": [
    "##############################################################################\n",
    "# TODO: Do tasks described in 1.1                                            #\n",
    "##############################################################################\n",
    "\n",
    "# CONSTANTS\n",
    "NUM_SAMPLES = 2000\n",
    "INIT_FACTOR = 5\n",
    "\n",
    "color_scene = o3d.io.read_image('color.jpg')\n",
    "depth_scene = o3d.io.read_image('depth.png')\n",
    "\n",
    "pinhole_camera_intrinsic = o3d.camera.PinholeCameraIntrinsic(o3d.camera.PinholeCameraIntrinsicParameters.PrimeSenseDefault)\n",
    "\n",
    "rgbd_scene = o3d.geometry.RGBDImage.create_from_sun_format(color_scene, depth_scene, convert_rgb_to_intensity=False)\n",
    "pcd_scene = o3d.geometry.PointCloud.create_from_rgbd_image(rgbd_scene, pinhole_camera_intrinsic)\n",
    "Rot = pcd_scene.get_rotation_matrix_from_zyx((0, 0, np.pi))\n",
    "pcd_scene.rotate(Rot, center=(0, 0, 0))\n",
    "\n",
    "\n",
    "#World Frame\n",
    "frame_world = o3d.geometry.TriangleMesh.create_coordinate_frame()\n",
    "frame_world = frame_world.sample_points_poisson_disk(number_of_points=NUM_SAMPLES, init_factor=INIT_FACTOR)\n",
    "pcd_scene = pcd_scene + frame_world\n",
    "\n",
    "o3d.io.write_point_cloud('scene.pcd', pcd_scene)\n",
    "\n",
    "def one_one(pcd):\n",
    "    o3d.visualization.draw_geometries([pcd])\n",
    "##############################################################################\n",
    "#                             END OF YOUR CODE                               #\n",
    "##############################################################################"
   ]
  },
  {
   "cell_type": "markdown",
   "metadata": {},
   "source": [
    "### Question for 1.1\n",
    "\n",
    "- In the next code cell, call the function `one_one` here showing `scene.pcd`."
   ]
  },
  {
   "cell_type": "code",
   "execution_count": 3,
   "metadata": {},
   "outputs": [],
   "source": [
    "#uncomment the following and add input parameters if any\n",
    "pcd_scene = o3d.io.read_point_cloud('scene.pcd')\n",
    "one_one(pcd_scene)"
   ]
  },
  {
   "cell_type": "markdown",
   "metadata": {},
   "source": [
    "# 2. Rotations, Euler angles and Gimbal Lock\n",
    "\n",
    "## 2.1 Rotating an object\n",
    "\n",
    "The objective here is to roughly simulate an object moving on a ground.\n",
    "\n",
    "- Generate a cube at some point on the ground and create another frame $B$ at the center of this object. Combine these both as a single point cloud `cube.pcd`. (You can pick a point on the ground by using the `get_picked_points` method of the class `open3d.visualization.VisualizerWithEditing`.)\n",
    "- Now read both the point clouds `scene.pcd` and `cube.pcd` in a script. Whatever tasks you do below are on the object `cube.pcd` (along with the axes $B$) with `scene.pcd` in the background (static).\n",
    "- Given a sequence of **ZYX Euler** angles $[30^{\\circ}, 90^{\\circ}, 45^{\\circ}]$, generate the rotation. In our case, our object (with its respective axis) undergoes rotation with the background being fixed (with its respective axis).\n",
    "- Note: Throughout this assignment, we will be using the standard **ZYX** Euler angle convention.\n",
    "- Write a function `two_one` to show the above by **animation** (cube rotating along each axis one by one).\n",
    "    - *Hint: Use Open3D's non-blocking visualization and discretize the rotation to simulate the animation. For example, if you want to rotate by $30^{\\circ}$ around a particular axis, do in increments of $5^{\\circ}$ 6 times to make it look like an animation.*"
   ]
  },
  {
   "cell_type": "code",
   "execution_count": 3,
   "metadata": {},
   "outputs": [],
   "source": [
    "##############################################################################\n",
    "# TODO: Do tasks described in 2.1                                            #\n",
    "##############################################################################\n",
    "\n",
    "# CONSTANTS\n",
    "CUBE_COLOR = [194/255, 122/255, 192/255]\n",
    "CUBE_SIZE = 0.4\n",
    "CUBE_CENTER = [-CUBE_SIZE/2 for i in range(3)]\n",
    "FRAME_SIZE = 0.6\n",
    "NUM_SAMPLES = 5000\n",
    "\n",
    "# Create the cube\n",
    "mesh_cube = o3d.geometry.TriangleMesh.create_box(width=CUBE_SIZE, height=CUBE_SIZE, depth=CUBE_SIZE)\n",
    "mesh_cube.paint_uniform_color(CUBE_COLOR)\n",
    "\n",
    "mesh_frame_cube = o3d.geometry.TriangleMesh.create_coordinate_frame(size=FRAME_SIZE, origin=CUBE_CENTER)\n",
    "framed_cube = (mesh_cube + mesh_frame_cube).sample_points_poisson_disk(number_of_points = NUM_SAMPLES, init_factor=INIT_FACTOR)\n",
    "\n",
    "o3d.io.write_point_cloud('cube.pcd', framed_cube)\n",
    "\n",
    "scene = o3d.io.read_point_cloud('scene.pcd')\n",
    "cube = o3d.io.read_point_cloud('cube.pcd')"
   ]
  },
  {
   "cell_type": "code",
   "execution_count": 4,
   "metadata": {},
   "outputs": [],
   "source": [
    "def pick_points(pcd):\n",
    "    print('Pick points using SHIFT + Left Click. After the point is picked a circle will be formed around that point. Press q to exit the window.')\n",
    "    print('Press ENTER to begin.')\n",
    "    input()\n",
    "    vis = o3d.visualization.VisualizerWithEditing()\n",
    "    vis.create_window()\n",
    "    vis.add_geometry(pcd)\n",
    "    vis.run()\n",
    "    vis.destroy_window()\n",
    "    points = vis.get_picked_points()\n",
    "    if len(points) == 0:\n",
    "        raise ValueError('No points chosen.')\n",
    "    return [pcd.points[i] for i in points]"
   ]
  },
  {
   "cell_type": "code",
   "execution_count": 5,
   "metadata": {
    "scrolled": true
   },
   "outputs": [
    {
     "name": "stdout",
     "output_type": "stream",
     "text": [
      "Pick points using SHIFT + Left Click. After the point is picked a circle will be formed around that point. Press q to exit the window.\n",
      "Press ENTER to begin.\n",
      "\n",
      "[Open3D INFO] Picked point #237474 (0.08, 0.024, 0.025) to add in queue.\n"
     ]
    }
   ],
   "source": [
    "cube_corner = pick_points(scene)[0]\n",
    "cube.translate(cube_corner)\n",
    "o3d.visualization.draw_geometries([scene, cube])\n",
    "\n",
    "##############################################################################\n",
    "#                             END OF YOUR CODE                               #\n",
    "##############################################################################"
   ]
  },
  {
   "cell_type": "code",
   "execution_count": 7,
   "metadata": {},
   "outputs": [],
   "source": [
    "def two_one(scene_path,cube_path):\n",
    "    scene = o3d.io.read_point_cloud(scene_path)\n",
    "    cube = o3d.io.read_point_cloud(cube_path)\n",
    "    cube.translate(cube_corner)\n",
    "    vis = o3d.visualization.Visualizer()\n",
    "    vis.create_window()\n",
    "    vis.add_geometry(scene)\n",
    "    vis.add_geometry(cube)\n",
    "    val = (np.pi)/36\n",
    "    \n",
    "    ROA = cube.get_rotation_matrix_from_zyx((val,0,0))\n",
    "    for i in range(0,6):\n",
    "        cube.rotate(ROA, center = CUBE_CENTER)\n",
    "        vis.update_geometry(cube)\n",
    "        vis.poll_events()\n",
    "        vis.update_renderer()\n",
    "        time.sleep(0.1)\n",
    "    \n",
    "    ROA = cube.get_rotation_matrix_from_zyx((val*6,0,0))\n",
    "    ROB = cube.get_rotation_matrix_from_zyx((val*6,val,0))\n",
    "    ROAT = ROA.transpose()\n",
    "    RAB = np.matmul(ROB, ROAT)\n",
    "    for i in range(0,18):\n",
    "        cube.rotate(RAB, center = CUBE_CENTER)\n",
    "        vis.update_geometry(cube)\n",
    "        vis.poll_events()\n",
    "        vis.update_renderer()\n",
    "        time.sleep(0.1)\n",
    "    \n",
    "    ROB = cube.get_rotation_matrix_from_zyx((val*6, val*18, 0))\n",
    "    ROC = cube.get_rotation_matrix_from_zyx((val*6, val*18, val))\n",
    "    ROBT = ROB.transpose()\n",
    "    RBC = np.matmul(ROC, ROBT)\n",
    "    for i in range(0,9):\n",
    "        cube.rotate(RBC, center = CUBE_CENTER)\n",
    "        vis.update_geometry(cube)\n",
    "        vis.poll_events()\n",
    "        vis.update_renderer()\n",
    "        time.sleep(0.1)\n",
    "        \n",
    "    vis.destroy_window()"
   ]
  },
  {
   "cell_type": "markdown",
   "metadata": {},
   "source": [
    "### Question for 2.1\n",
    "\n",
    "- In the next code cell, call the function `two_one` here showing the animation described in section 2.1."
   ]
  },
  {
   "cell_type": "code",
   "execution_count": 10,
   "metadata": {},
   "outputs": [],
   "source": [
    "#uncomment the following and add input parameters if any\n",
    "two_one('scene.pcd','cube.pcd')"
   ]
  },
  {
   "cell_type": "markdown",
   "metadata": {},
   "source": [
    "## 2.2 Euler angle & Gimbal lock\n",
    "\n",
    "Code the following yourself from scratch (Refer Craig book - Section: $Z-Y-X$ Euler angles - same conventions/notations followed).\n",
    "\n",
    "- Case 1: Given the rotation matrix $M_{given}$ below, extract Euler angles $\\alpha , \\beta ,\\gamma$. Convert it back to the rotation matrix $M_{recovered}$ from Euler angles.\n",
    "\n",
    "    $$M(\\alpha , \\beta ,\\gamma)=\\left[\\begin{array}{rrr}0.26200263 & -0.19674724 & 0.944799 \\\\0.21984631 & 0.96542533 & 0.14007684 \\\\\n",
    "    -0.93969262 & 0.17101007 & 0.29619813\\end{array}\\right] $$\n",
    "\n",
    "    After coding it from scratch, check your calculations using `scipy.spatial.transform.Rotation`. (Mandatory)\n",
    "\n",
    "- Case 2: Given the rotation matrix $N_{given}$, extract Euler angles, and convert back $N_{recovered}$.\n",
    "\n",
    "    $$N(\\alpha , \\beta ,\\gamma)=\\left[\\begin{array}{rrr}0 & -0.173648178 &  0.984807753 \\\\0 & 0.984807753 & 0.173648178 \\\\\n",
    "    -1 & 0 & 0\\end{array}\\right] $$\n",
    "\n",
    "    Again use `scipy` and check its output. If `scipy` is showing any warnings on any of the above cases, explain it in \"**Questions for 2.2**\" (last question). Write code in the next cell.\n",
    "    \n",
    "- (Optional) Case 3: Do the above two for quaternion using scipy functions, i.e. given the rotation matrix, extract quaternion and convert back."
   ]
  },
  {
   "cell_type": "code",
   "execution_count": 6,
   "metadata": {
    "deletable": false,
    "editable": false
   },
   "outputs": [],
   "source": [
    "##############################################################################\n",
    "# DON'T EDIT\n",
    "M_given =  np.array([[0.26200263, -0.19674724, 0.944799],\n",
    "                     [0.21984631, 0.96542533, 0.14007684],\n",
    "                     [-0.93969262, 0.17101007, 0.29619813]])\n",
    "\n",
    "N_given = np.array([[0,-0.173648178,0.984807753],\n",
    "                    [0, 0.984807753, 0.173648178],\n",
    "                    [-1, 0, 0]])"
   ]
  },
  {
   "cell_type": "code",
   "execution_count": 7,
   "metadata": {},
   "outputs": [],
   "source": [
    "# TODO: Do tasks described in 2.2                                            #\n",
    "##############################################################################\n",
    "\n",
    "def euler_zyx_from_rotation(R):\n",
    "    beta = np.arctan2(-R[2, 0], np.sqrt(R[0, 0] ** 2 + R[1, 0] ** 2))\n",
    "    alpha = np.arctan2(R[1, 0]/np.cos(beta), R[0, 0]/np.cos(beta))\n",
    "    gamma = np.arctan2(R[2, 1]/np.cos(beta), R[2, 2]/np.cos(beta))\n",
    "    return (alpha, beta, gamma)\n",
    "\n",
    "def rotation_from_euler_zyx(alpha, beta, gamma):\n",
    "    R = np.zeros((3, 3), dtype='double')\n",
    "    \n",
    "    R[0, 0] = np.cos(alpha) * np.cos(beta)\n",
    "    R[0, 1] = np.cos(alpha) * np.sin(beta) * np.sin(gamma) - np.sin(alpha) * np.cos(gamma)\n",
    "    R[0, 2] = np.cos(alpha) * np.sin(beta) * np.cos(gamma) + np.sin(alpha) * np.sin(gamma)\n",
    "    \n",
    "    R[1, 0] = np.sin(alpha) * np.cos(beta)\n",
    "    R[1, 1] = np.sin(alpha) * np.sin(beta) * np.sin(gamma) + np.cos(alpha) * np.cos(gamma)\n",
    "    R[1, 2] = np.sin(alpha) * np.sin(beta) * np.cos(gamma) - np.cos(alpha) * np.sin(gamma)\n",
    "    \n",
    "    R[2, 0] = -np.sin(beta)\n",
    "    R[2, 1] =  np.cos(beta) * np.sin(gamma)\n",
    "    R[2, 2] =  np.cos(beta) * np.cos(gamma)\n",
    "    \n",
    "    return R"
   ]
  },
  {
   "cell_type": "code",
   "execution_count": 8,
   "metadata": {},
   "outputs": [
    {
     "name": "stdout",
     "output_type": "stream",
     "text": [
      "Ours:\n",
      "Euler angles (zyx):  [0.6981317  1.22173048 0.52359878]\n",
      "Recovered rotation matrix:\n",
      " [[ 0.26200263 -0.19674724  0.944799  ]\n",
      " [ 0.21984631  0.96542534  0.14007684]\n",
      " [-0.93969262  0.17101007  0.29619813]]\n",
      "\n",
      "Scipy's:\n",
      "Euler angles (zyx):  [0.69813171 1.22173048 0.52359878]\n",
      "Recovered rotation matrix:\n",
      " [[ 0.26200263 -0.19674724  0.944799  ]\n",
      " [ 0.21984631  0.96542534  0.14007684]\n",
      " [-0.93969262  0.17101007  0.29619813]]\n"
     ]
    }
   ],
   "source": [
    "# Case 1\n",
    "\n",
    "# Ours\n",
    "print('Ours:')\n",
    "euler_M = euler_zyx_from_rotation(M_given)\n",
    "print('Euler angles (zyx): ', np.array(euler_M))\n",
    "M_generated = rotation_from_euler_zyx(*euler_M)\n",
    "print('Recovered rotation matrix:\\n', M_generated)\n",
    "\n",
    "# Scipy's\n",
    "print('\\nScipy\\'s:')\n",
    "bench = R.from_matrix(M_given)\n",
    "print('Euler angles (zyx): ', bench.as_euler('ZYX'))\n",
    "bench2 = R.from_euler('ZYX', bench.as_euler('ZYX'))\n",
    "print('Recovered rotation matrix:\\n', bench2.as_matrix())"
   ]
  },
  {
   "cell_type": "code",
   "execution_count": 9,
   "metadata": {},
   "outputs": [
    {
     "name": "stdout",
     "output_type": "stream",
     "text": [
      "Ours:\n",
      "Euler angles (zyx):  [0.         1.57079633 0.        ]\n",
      "Recovered rotation matrix:\n",
      " [[ 6.123234e-17  0.000000e+00  1.000000e+00]\n",
      " [ 0.000000e+00  1.000000e+00  0.000000e+00]\n",
      " [-1.000000e+00  0.000000e+00  6.123234e-17]]\n",
      "\n",
      "Scipy's:\n",
      "Euler angles (zyx):  [0.17453293 1.57079633 0.        ]\n",
      "Recovered rotation matrix:\n",
      " [[ 1.66533454e-16 -1.73648178e-01  9.84807753e-01]\n",
      " [ 2.77555756e-17  9.84807753e-01  1.73648178e-01]\n",
      " [-1.00000000e+00  0.00000000e+00  1.66533454e-16]]\n"
     ]
    },
    {
     "name": "stderr",
     "output_type": "stream",
     "text": [
      "/home/kanish/Downloads/MobileRobotics/venv/lib/python3.6/site-packages/scipy/spatial/transform/rotation.py:133: UserWarning: Gimbal lock detected. Setting third angle to zero since it is not possible to uniquely determine all angles.\n",
      "  warnings.warn(\"Gimbal lock detected. Setting third angle to zero since\"\n"
     ]
    }
   ],
   "source": [
    "# Case 2\n",
    "\n",
    "# Ours\n",
    "print('Ours:')\n",
    "euler_N = euler_zyx_from_rotation(N_given)\n",
    "print('Euler angles (zyx): ', np.array(euler_N))\n",
    "N_generated = rotation_from_euler_zyx(*euler_N)\n",
    "print('Recovered rotation matrix:\\n', N_generated)\n",
    "\n",
    "# Scipy's\n",
    "print('\\nScipy\\'s:')\n",
    "bench = R.from_matrix(N_given)\n",
    "print('Euler angles (zyx): ', bench.as_euler('ZYX'))\n",
    "bench2 = R.from_euler('ZYX', bench.as_euler('ZYX'))\n",
    "print('Recovered rotation matrix:\\n', bench2.as_matrix())\n",
    "\n",
    "##############################################################################\n",
    "#                             END OF YOUR CODE                               #\n",
    "##############################################################################"
   ]
  },
  {
   "cell_type": "markdown",
   "metadata": {},
   "source": [
    "## Questions for 2.2\n",
    "- Have you used `np.arctan` or an any equivalent `atan` function above? Why or why not?   \n",
    "    * Ans: We have used `np.arctan2` to calculate the inverse tangents of the given values. As opposed to a single-argument inverse tangent function, `np.arctan2` takes in $x$ and $y$ values separately, and uses them to infer the quadrant of the angle, thus being able to output angles in the complete range $[-\\pi, \\pi)$. Single-argument inverse tangents functions lack information about the individual signs of $x$ and $y$ and hence can only return an angle within the *principal-value range* of $[-\\frac{\\pi}{2}, \\frac{\\pi}{2}).$ Because this would have restricted the output euler angles, this was avoided."
   ]
  },
  {
   "cell_type": "markdown",
   "metadata": {},
   "source": [
    "### For Case 1 above,\n",
    "- What Euler angles  $\\alpha , \\beta ,\\gamma$ did you get? Replace `my_array_case1` with your array."
   ]
  },
  {
   "cell_type": "code",
   "execution_count": 10,
   "metadata": {},
   "outputs": [
    {
     "name": "stdout",
     "output_type": "stream",
     "text": [
      "My Euler angles for case 1 are (0.6981317003487097, 1.2217304765297095, 0.5235987753730347)\n"
     ]
    }
   ],
   "source": [
    "# Uncomment and replace my_array_case1 with your array.\n",
    "print(\"My Euler angles for case 1 are \" + str(euler_M))"
   ]
  },
  {
   "cell_type": "markdown",
   "metadata": {},
   "source": [
    "  - Were you able to recover back your rotation matrix when you converted it from Euler angles? Why/why not? Replace `M_given` and `M_recovered` with your matrices below and explain \"why/why not\" after this code snippet."
   ]
  },
  {
   "cell_type": "code",
   "execution_count": 11,
   "metadata": {},
   "outputs": [
    {
     "name": "stdout",
     "output_type": "stream",
     "text": [
      "For case 1, it is True I could recover the original matrix.\n"
     ]
    }
   ],
   "source": [
    "# Uncomment and Replace M_given and M_recovered with your matrices below.\n",
    "error = np.linalg.norm(logm(M_given @ M_generated.T))\n",
    "print(\"For case 1, it is \" + str(error<0.0001) + \" I could recover the original matrix.\")"
   ]
  },
  {
   "cell_type": "markdown",
   "metadata": {},
   "source": [
    "- Why/why not? Based on your observations here, is there any problem with Euler angle representation for Case 1? If yes, what is it?\n",
    "\n",
    "    - Ans: The problem with Euler Angles is their inability to be directly used in computations and the loss of precision that occurs while performing the mathematical conversions. While Euler angles are more compact and also easier to visualise than rotation matrices, they cannot be used to compute frame or point rotations directly, making them not-so-useful for a computer."
   ]
  },
  {
   "cell_type": "markdown",
   "metadata": {},
   "source": [
    "### Repeat the above for Case 2."
   ]
  },
  {
   "cell_type": "code",
   "execution_count": 12,
   "metadata": {},
   "outputs": [
    {
     "name": "stdout",
     "output_type": "stream",
     "text": [
      "My Euler angles for case 2 are (0.0, 1.5707963267948966, 0.0)\n",
      "For case 2, it is False I could recover the original matrix.\n"
     ]
    }
   ],
   "source": [
    "# Uncomment and Replace N_given and N_recovered with your matrices below.\n",
    "print(\"My Euler angles for case 2 are \" + str(euler_N))\n",
    "error = np.linalg.norm(logm(N_given @ N_generated.T))\n",
    "print(\"For case 2, it is \" + str(error<0.0001) + \" I could recover the original matrix.\")"
   ]
  },
  {
   "cell_type": "markdown",
   "metadata": {},
   "source": [
    "* Why/why not? Based on your observations here, is there any problem with Euler angle representation for Case 2? If yes, what is it?\n",
    "\n",
    "    * Ans: *your answer here.*\n",
    "    \n",
    "    \n",
    "* Explain any more problems with Euler angle representation. Explain what you understand by Gimbal lock (concisely in your own words). You could revisit this question in the section 2.4.\n",
    "    * Ans: *your answer here.*"
   ]
  },
  {
   "cell_type": "markdown",
   "metadata": {},
   "source": [
    "- When you used `scipy.spatial.transform.Rotation` for the above 2 cases,\n",
    "    - Have you used `zyx` above in `r.as_euler('')` argument? Why or why not? Explain the difference between extrinsic and instrinsic rotations with equivalent technical names from Craig book?\n",
    "        * Ans: *your answer here.*\n",
    "    - Has `scipy` shown any warnings on any of the above cases? If yes, explain it.\n",
    "        * Ans: *your answer here.*\n",
    "    - (Optional) For Case 3 above (quaternion) which you did using scipy, did you observe any problem with quaternion? Depending on your observations, which is better? Quaternion or Euler angles? And why?\n",
    "         * Ans: *your answer here.*\n"
   ]
  },
  {
   "cell_type": "markdown",
   "metadata": {},
   "source": [
    "## 2.3 Rotation matrix as an Operator\n",
    "This question will help you in your understanding of [Rotator-transform (Vector-frame) equivalence](https://www.notion.so/saishubodh/Lecture-2-Transformations-11d69d8cef2d4cd195a98fa7d33224e1#f90ece4f5e374743bfed47e46a83ecfe).\n",
    "\n",
    "![image.png](./misc/xyz-frame.png)\n",
    "Consider the frame $XYZ$ in the above image. Say you have a vector $x_1=[0,\\sqrt{3},0]$. Now you want to rotate it such that you end up at $x_2=[1,1,1]$ through a sequence of Euler angle rotations. Your goal is to find out those $\\alpha, \\beta \\: \\& \\: \\gamma$ ($ZYX$). We will follow this order whenever we refer to it below.\n",
    "\n",
    "First, properly understand the so-called \"Rotator-transform equivalence\" to figure out what are the terms of rotation matrix. Then, put the math on paper and you will end up with a set of non-linear equations. Write the set of linear equations in LaTeX here:"
   ]
  },
  {
   "cell_type": "markdown",
   "metadata": {},
   "source": [
    "$$ \\textbf{Ans: Your set of equations here} $$\n",
    "$$ \\sqrt{3}\\sin{\\gamma} \\cos{\\beta} - 1 = 0 $$\n",
    "$$ \\sqrt{3}\\cos{\\alpha}\\cos{\\gamma} + \\sqrt{3}\\sin{\\alpha}\\sin{\\beta}\\sin{\\gamma} - 1 = 0 $$\n",
    "$$ -\\sqrt{3}\\sin{\\alpha}\\cos{\\gamma} + \\sqrt{3}\\cos{\\alpha}\\sin{\\beta}\\sin{\\gamma} - 1 = 0 $$"
   ]
  },
  {
   "cell_type": "markdown",
   "metadata": {},
   "source": [
    "Solve these equations using `fsolve` from `scipy.optimize` as follows: (Come back and answer the following questions after coding it in the next block)\n",
    "- `case1`: First, solve it with an initialization of (0,0,0). Check if your answer is correct using `np.isclose`.\n",
    "    * What Euler angles did you get? Answer in $\\alpha, \\beta \\: \\& \\: \\gamma$ format:\n",
    "        * Ans: *$a_1, b_1, c_1$ = [ -0.32906483356361393, -93.69048524053285, 0.74815097858118 ]* \n",
    "- `case2`: Now, forget about the solver for a moment: Can you visualize and think of sequence of rotations one by one to reach the final position (which is different than previous set of rotations)? Now, validate your answer by giving (your answer $\\pm 5$) as initialization.\n",
    "    * What Euler angles did you get? Answer in $\\alpha, \\beta \\: \\& \\: \\gamma$ format:\n",
    "        * Ans: *$a_2, b_2, c_2$ = your answer here.*"
   ]
  },
  {
   "cell_type": "code",
   "execution_count": 17,
   "metadata": {
    "deletable": false,
    "editable": false
   },
   "outputs": [],
   "source": [
    "##############################################################################\n",
    "# DON'T EDIT\n",
    "x_1 = np.array([0,np.sqrt(3),0])\n",
    "x_2 = np.array([1,1,1])"
   ]
  },
  {
   "cell_type": "code",
   "execution_count": 57,
   "metadata": {},
   "outputs": [
    {
     "name": "stdout",
     "output_type": "stream",
     "text": [
      "[ True  True  True]\n",
      "[ True  True  True]\n"
     ]
    }
   ],
   "source": [
    "##############################################################################\n",
    "# TODO: Do tasks described in 2.3                                            #\n",
    "#########a#####################################################################\n",
    "# Replace \"pass\" statement with your code\n",
    "def func(x):\n",
    "    return [np.sqrt(3) * np.sin(x[2]) * np.cos(x[1]) - 1,\n",
    "            np.sqrt(3) * np.cos(x[0]) * np.cos(x[2]) + np.sqrt(3) * np.sin(x[0]) * np.sin(x[1]) * np.sin(x[2]) - 1,\n",
    "            -1 * np.sqrt(3) * np.sin(x[0]) * np.cos(x[2]) + np.sqrt(3) * np.cos(x[0]) * np.sin(x[1]) * np.sin(x[2]) -1\n",
    "           ]\n",
    "\n",
    "root1 = fsolve(func, [0 ,0 ,0])\n",
    "a1, b1, c1 = root1\n",
    "print(np.isclose(func(root1), [0, 0, 0]))\n",
    "\n",
    "root2 = fsolve(func, [7*np.pi/4, 0, np.pi/4])\n",
    "a2, b2, c2 = root2\n",
    "print(np.isclose(func(root2), [0, 0, 0]))\n",
    "##############################################################################\n",
    "#                             END OF YOUR CODE                               #\n",
    "##############################################################################"
   ]
  },
  {
   "cell_type": "code",
   "execution_count": 58,
   "metadata": {},
   "outputs": [
    {
     "data": {
      "text/plain": [
       "array([5.51454805, 0.02369795, 0.61567832])"
      ]
     },
     "execution_count": 58,
     "metadata": {},
     "output_type": "execute_result"
    }
   ],
   "source": [
    "root2"
   ]
  },
  {
   "cell_type": "code",
   "execution_count": 51,
   "metadata": {},
   "outputs": [
    {
     "data": {
      "text/plain": [
       "array([0.8660254 , 0.8660254 , 1.22474487])"
      ]
     },
     "execution_count": 51,
     "metadata": {},
     "output_type": "execute_result"
    }
   ],
   "source": [
    "# root2 = [7*np.pi/4, 0, np.pi/4]\n",
    "# a2, b2, c2 = root2\n",
    "# x_2_obtained_case2 = rotation_from_euler_zyx(a2,b2,c2) @ x_1.T\n",
    "# x_2_obtained_case2"
   ]
  },
  {
   "cell_type": "code",
   "execution_count": 42,
   "metadata": {},
   "outputs": [],
   "source": [
    "# From Section 2.2, use the function which takes Euler angles and gives Rotation matrix as output.\n",
    "# Uncomment and replace `r_mat` with the name of the function. (Do NOT edit anything else)\n",
    "x_2_obtained_case1 = rotation_from_euler_zyx(a1,b1,c1) @ x_1.T #TODO: replace r_mat\n",
    "x_2_obtained_case2 = rotation_from_euler_zyx(a2,b2,c2) @ x_1.T #TODO: replace r_mat\n",
    "test = True #TODO: Set this as True"
   ]
  },
  {
   "cell_type": "code",
   "execution_count": 43,
   "metadata": {},
   "outputs": [
    {
     "name": "stdout",
     "output_type": "stream",
     "text": [
      "For case 1, it is True that I could end up at (1,1,1) after rotation.\n",
      "For case 2, it is True that I could end up at (1,1,1) after rotation.\n"
     ]
    }
   ],
   "source": [
    "# DON'T EDIT\n",
    "if test == True:\n",
    "    case1_test = np.isclose(x_2_obtained_case1,  np.array([1.0,1.0,1.0]))\n",
    "    case2_test = np.isclose(x_2_obtained_case2,  np.array([1.0,1.0,1.0]))\n",
    "    print(\"For case 1, it is \" + str(bool(case1_test[0] and case1_test[1] and case1_test[2])) + \n",
    "          \" that I could end up at (1,1,1) after rotation.\")\n",
    "    print(\"For case 2, it is \" + str(bool(case2_test[0] and case2_test[1] and case2_test[2])) + \n",
    "          \" that I could end up at (1,1,1) after rotation.\")"
   ]
  },
  {
   "cell_type": "markdown",
   "metadata": {},
   "source": [
    "## 2.4 Gimbal Lock visualization (Optional)\n",
    "\n",
    "A nice visualization video for gimbal lock is [this](https://www.youtube.com/watch?v=zc8b2Jo7mno). You are about to animate a similar visualization demonstrating gimbal lock 😃.\n",
    "\n",
    "![image.png](./misc/xyz-frame.png)\n",
    "\n",
    "- Write a function `two_four` for the visualization of gimbal lock. Follow the below steps to get the intuition going. Use Open3D for the following.\n",
    "    - Say our frame's initial position is as the above image. Now the final goal at the end of rotation is to get the $Y$ axis pointing in the direction of the vector $(x,y,z)$ that you currently see in the above image. This point is fixed in space and is NOT moving as we rotate our axis.\n",
    "    - For creating that point, you could use a small sphere using `open3d.geometry.create_mesh_sphere`. You already know how to create an axis by now.\n",
    "    - Following our $ZYX$ convention, first rotate your frame about $Z$ axis by an angle, say $-35^{\\circ}$. Then rotate about $Y$ axis by an angle ${\\beta}$ and then about $X$ by say $55^{\\circ}$.\n",
    "        - Are there any specific angle(s) $\\beta$ using which you will **never** reach our point $(x,y,z)$ ?\n",
    "            - Clue: We are specifically talking about gimbal lock here and notice the word \"never\".\n",
    "        - Under this (these) specific angle(s) of $\\beta$ & different combinations of $\\alpha$ and $\\gamma$, make an animation and clearly show why your $Y$ axis is unable to align in the direction of that vector $(x,y,z)$ using the animation.\n",
    "\n",
    "            If you are unsure to simulate the animation, you could do it as follows:\n",
    "\n",
    "            - You could first fix some $\\alpha$, say $-35^{\\circ}$ & an above value of $\\beta$, you can now vary $\\gamma$ from $-180^{\\circ} \\text{ to }180^{\\circ}$ to simulate the animation.\n",
    "            - Now fix another $\\alpha$, say $45^{\\circ}$ and repeat the above process. So that's 2 specific values of $\\alpha$.\n",
    "            - Show this for all angles of $\\beta$ if there are more than 1.\n",
    "            - Therefore, when the code is run, there should be a minimum of (2 $\\times$ (number of values of $\\beta$)) animations. 2 for values of $\\alpha$, you could show it for even more if you wish to."
   ]
  },
  {
   "cell_type": "code",
   "execution_count": null,
   "metadata": {},
   "outputs": [],
   "source": [
    "##############################################################################\n",
    "# TODO: Do tasks described in 2.4                                            #\n",
    "##############################################################################\n",
    "# Replace \"pass\" statement with your code\n",
    "pass\n",
    "##############################################################################\n",
    "#                             END OF YOUR CODE                               #\n",
    "##############################################################################"
   ]
  },
  {
   "cell_type": "markdown",
   "metadata": {},
   "source": [
    "> VOILA! You have just animated the famous Gimbal lock problem. If you are curious, read about the [Apollo 11](https://en.wikipedia.org/wiki/Gimbal_lock#On_Apollo_11) Gimbal lock incident.\n",
    "\n",
    "### Questions for 2.4 (Optional)\n",
    "\n",
    "- Mention the value(s) of $\\beta$ here: \n",
    "    * Ans: *your answer here.*\n",
    "- Now that you understand gimbal lock through visualization, explain it now in matrix form: For the above values of $\\beta$, what does the rotation matrix look like? Can you explain why gimbal lock occurs from the rotation matrix alone? Clue: Use sin/cos formulae. \n",
    "    * Ans: *your answer here.*\n",
    "- Call the function `two_four` for the visualization of gimbal lock written above. "
   ]
  },
  {
   "cell_type": "code",
   "execution_count": null,
   "metadata": {},
   "outputs": [],
   "source": [
    "#uncomment the following and add input parameters if any\n",
    "#two_four()"
   ]
  }
 ],
 "metadata": {
  "celltoolbar": "Edit Metadata",
  "kernelspec": {
   "display_name": "Python 3",
   "language": "python",
   "name": "python3"
  },
  "language_info": {
   "codemirror_mode": {
    "name": "ipython",
    "version": 3
   },
   "file_extension": ".py",
   "mimetype": "text/x-python",
   "name": "python",
   "nbconvert_exporter": "python",
   "pygments_lexer": "ipython3",
   "version": "3.6.9"
  }
 },
 "nbformat": 4,
 "nbformat_minor": 4
}
