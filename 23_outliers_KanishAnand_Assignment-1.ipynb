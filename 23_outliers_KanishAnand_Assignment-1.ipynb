{
 "cells": [
  {
   "cell_type": "markdown",
   "metadata": {},
   "source": [
    "# Assignment 1: Transformations\n",
    "\n",
    "\n",
    "TEAM-ID:   \n",
    "TEAM-NAME:   \n",
    "YOUR-ID:   \n",
    "YOUR-NAME:    \n",
    "\n",
    "(Although you work in groups, both the students have to submit to Moodle, hence there's name field above)"
   ]
  },
  {
   "cell_type": "markdown",
   "metadata": {},
   "source": [
    "# Instructions\n",
    "- Please check Moodle for \"TEAM-ID\" and \"TEAM-NAME\" fields above. Some of your names have been edited because of redundancy/simplicity. Instructions for submitting the assignment through GitHub Classrooms/Moodle has been uploaded on Moodle. Any clarifications will be made there itself.\n",
    "- Code must be written in Python in Jupyter Notebooks. We highly recommend using anaconda distribution or at the minimum, virtual environments for this assignment. See `./misc/installation` for detailed step-by-step instructions about the installation setup.\n",
    "- Both the team members must submit the zip file.\n",
    "- For this assignment, you will be using Open3D extensively. Refer to [Open3D Documentation](http://www.open3d.org/docs/release/): you can use the in-built methods and **unless explicitly mentioned**, don't need to code from scratch for this assignment. Make sure your code is modular since you will be reusing them for future assignments.\n",
    "- Take a look at the entire assignment. The descriptive questions at the end might have a clue if you are stuck somewhere.\n",
    "- Answer the descriptive questions in your own words with context & clarity. Do not just copy-paste from some Wikipedia page. You will be evaluated accordingly.\n",
    "- Please call the visualization functions only when they are asked. They are asked explicitly at the end of every section.\n",
    "- You could split the Jupyter Notebook cells where `TODO` is written, but please try to avoid splitting/changing the structure of other cells."
   ]
  },
  {
   "cell_type": "code",
   "execution_count": 1,
   "metadata": {},
   "outputs": [],
   "source": [
    "import open3d as o3d\n",
    "import time\n",
    "import copy\n",
    "import numpy as np\n",
    "from scipy.linalg import logm\n",
    "from scipy.spatial.transform import Rotation as R\n",
    "from scipy.optimize import fsolve"
   ]
  },
  {
   "cell_type": "markdown",
   "metadata": {},
   "source": [
    "# 1. Getting started with Open3D\n",
    "## 1.1 Converting RGBD image into Point Cloud\n",
    "\n",
    "\n",
    "In your robotics journey, it is common to be given just the depth images along with camera parameters in a generic dataset and you'd want to build a 3D data representation out of it, for example, a point cloud. You will understand the math behind these concepts in detail during Vision classes, for now, you can use the in-built functions as a black box.\n",
    "- Below are the given RGB and D images from SUN RGB-D dataset ([S.Song, CVPR 2015](https://rgbd.cs.princeton.edu/)). \n",
    "![low-res-RGBD.resized.png](./misc/low-res-RGBD.png)\n",
    "\n",
    "- Read these two images `color.jpg` and `depth.png` given in current folder using Open3D. Convert it to a point cloud using the default camera parameters (`o3d.camera.PinholeCameraIntrinsicParameters.PrimeSenseDefault`).\n",
    "Then,\n",
    "- Create a \"world\" frame $A$ and combine this (just use $+$ operator) with the above point cloud and save it as `scene.pcd`. Put it aside for now.\n",
    "- Write a simple function `one_one` to visualize `scene.pcd`."
   ]
  },
  {
   "cell_type": "code",
   "execution_count": 2,
   "metadata": {},
   "outputs": [],
   "source": [
    "##############################################################################\n",
    "# TODO: Do tasks described in 1.1                                            #\n",
    "##############################################################################\n",
    "\n",
    "# CONSTANTS\n",
    "NUM_SAMPLES = 2000\n",
    "INIT_FACTOR = 5\n",
    "\n",
    "color_scene = o3d.io.read_image('color.jpg')\n",
    "depth_scene = o3d.io.read_image('depth.png')\n",
    "\n",
    "pinhole_camera_intrinsic = o3d.camera.PinholeCameraIntrinsic(o3d.camera.PinholeCameraIntrinsicParameters.PrimeSenseDefault)\n",
    "\n",
    "rgbd_scene = o3d.geometry.RGBDImage.create_from_sun_format(color_scene, depth_scene, convert_rgb_to_intensity=False)\n",
    "pcd_scene = o3d.geometry.PointCloud.create_from_rgbd_image(rgbd_scene, pinhole_camera_intrinsic)\n",
    "Rot = pcd_scene.get_rotation_matrix_from_zyx((0, 0, np.pi))\n",
    "pcd_scene.rotate(Rot, center=(0, 0, 0))\n",
    "\n",
    "\n",
    "#World Frame\n",
    "frame_world = o3d.geometry.TriangleMesh.create_coordinate_frame()\n",
    "frame_world = frame_world.sample_points_poisson_disk(number_of_points=NUM_SAMPLES, init_factor=INIT_FACTOR)\n",
    "pcd_scene = pcd_scene + frame_world\n",
    "\n",
    "o3d.io.write_point_cloud('scene.pcd', pcd_scene)\n",
    "\n",
    "def one_one(pcd):\n",
    "    o3d.visualization.draw_geometries([pcd])\n",
    "##############################################################################\n",
    "#                             END OF YOUR CODE                               #\n",
    "##############################################################################"
   ]
  },
  {
   "cell_type": "markdown",
   "metadata": {},
   "source": [
    "### Question for 1.1\n",
    "\n",
    "- In the next code cell, call the function `one_one` here showing `scene.pcd`."
   ]
  },
  {
   "cell_type": "code",
   "execution_count": 3,
   "metadata": {},
   "outputs": [],
   "source": [
    "#uncomment the following and add input parameters if any\n",
    "pcd_scene = o3d.io.read_point_cloud('scene.pcd')\n",
    "one_one(pcd_scene)"
   ]
  },
  {
   "cell_type": "markdown",
   "metadata": {},
   "source": [
    "# 2. Rotations, Euler angles and Gimbal Lock\n",
    "\n",
    "## 2.1 Rotating an object\n",
    "\n",
    "The objective here is to roughly simulate an object moving on a ground.\n",
    "\n",
    "- Generate a cube at some point on the ground and create another frame $B$ at the center of this object. Combine these both as a single point cloud `cube.pcd`. (You can pick a point on the ground by using the `get_picked_points` method of the class `open3d.visualization.VisualizerWithEditing`.)\n",
    "- Now read both the point clouds `scene.pcd` and `cube.pcd` in a script. Whatever tasks you do below are on the object `cube.pcd` (along with the axes $B$) with `scene.pcd` in the background (static).\n",
    "- Given a sequence of **ZYX Euler** angles $[30^{\\circ}, 90^{\\circ}, 45^{\\circ}]$, generate the rotation. In our case, our object (with its respective axis) undergoes rotation with the background being fixed (with its respective axis).\n",
    "- Note: Throughout this assignment, we will be using the standard **ZYX** Euler angle convention.\n",
    "- Write a function `two_one` to show the above by **animation** (cube rotating along each axis one by one).\n",
    "    - *Hint: Use Open3D's non-blocking visualization and discretize the rotation to simulate the animation. For example, if you want to rotate by $30^{\\circ}$ around a particular axis, do in increments of $5^{\\circ}$ 6 times to make it look like an animation.*"
   ]
  },
  {
   "cell_type": "code",
   "execution_count": 4,
   "metadata": {},
   "outputs": [],
   "source": [
    "##############################################################################\n",
    "# TODO: Do tasks described in 2.1                                            #\n",
    "##############################################################################\n",
    "\n",
    "# CONSTANTS\n",
    "CUBE_COLOR = [194/255, 122/255, 192/255]\n",
    "CUBE_SIZE = 0.4\n",
    "CUBE_CENTER = [-CUBE_SIZE/2 for i in range(3)]\n",
    "FRAME_SIZE = 0.6\n",
    "NUM_SAMPLES = 5000\n",
    "\n",
    "# Create the cube\n",
    "mesh_cube = o3d.geometry.TriangleMesh.create_box(width=CUBE_SIZE, height=CUBE_SIZE, depth=CUBE_SIZE)\n",
    "mesh_cube.paint_uniform_color(CUBE_COLOR)\n",
    "\n",
    "mesh_frame_cube = o3d.geometry.TriangleMesh.create_coordinate_frame(size=FRAME_SIZE, origin=CUBE_CENTER)\n",
    "framed_cube = (mesh_cube + mesh_frame_cube).sample_points_poisson_disk(number_of_points = NUM_SAMPLES, init_factor=INIT_FACTOR)\n",
    "\n",
    "o3d.io.write_point_cloud('cube.pcd', framed_cube)\n",
    "\n",
    "scene = o3d.io.read_point_cloud('scene.pcd')\n",
    "cube = o3d.io.read_point_cloud('cube.pcd')"
   ]
  },
  {
   "cell_type": "code",
   "execution_count": 5,
   "metadata": {},
   "outputs": [],
   "source": [
    "def pick_points(pcd):\n",
    "    print('Pick points using SHIFT + Left Click. After the point is picked a circle will be formed around that point. Press q to exit the window.')\n",
    "    print('Press ENTER to begin.')\n",
    "    input()\n",
    "    vis = o3d.visualization.VisualizerWithEditing()\n",
    "    vis.create_window()\n",
    "    vis.add_geometry(pcd)\n",
    "    vis.run()\n",
    "    vis.destroy_window()\n",
    "    points = vis.get_picked_points()\n",
    "    if len(points) == 0:\n",
    "        raise ValueError('No points chosen.')\n",
    "    return [pcd.points[i] for i in points]"
   ]
  },
  {
   "cell_type": "code",
   "execution_count": 6,
   "metadata": {
    "scrolled": true
   },
   "outputs": [
    {
     "name": "stdout",
     "output_type": "stream",
     "text": [
      "Pick points using SHIFT + Left Click. After the point is picked a circle will be formed around that point. Press q to exit the window.\n",
      "Press ENTER to begin.\n",
      "\n",
      "[Open3D INFO] Picked point #189171 (-0.28, -0.93, -3.3) to add in queue.\n"
     ]
    }
   ],
   "source": [
    "cube_corner = pick_points(scene)[0]\n",
    "cube.translate(cube_corner)\n",
    "o3d.visualization.draw_geometries([scene, cube])\n",
    "\n",
    "##############################################################################\n",
    "#                             END OF YOUR CODE                               #\n",
    "##############################################################################"
   ]
  },
  {
   "cell_type": "code",
   "execution_count": 7,
   "metadata": {},
   "outputs": [],
   "source": [
    "def two_one(scene_path,cube_path):\n",
    "    scene = o3d.io.read_point_cloud(scene_path)\n",
    "    cube = o3d.io.read_point_cloud(cube_path)\n",
    "    cube.translate(cube_corner)\n",
    "    vis = o3d.visualization.Visualizer()\n",
    "    vis.create_window()\n",
    "    vis.add_geometry(scene)\n",
    "    vis.add_geometry(cube)\n",
    "    val = (np.pi)/36\n",
    "    \n",
    "    ROA = cube.get_rotation_matrix_from_zyx((val,0,0))\n",
    "    for i in range(0,6):\n",
    "        cube.rotate(ROA, center = CUBE_CENTER)\n",
    "        vis.update_geometry(cube)\n",
    "        vis.poll_events()\n",
    "        vis.update_renderer()\n",
    "        time.sleep(0.1)\n",
    "    \n",
    "    ROA = cube.get_rotation_matrix_from_zyx((val*6,0,0))\n",
    "    ROB = cube.get_rotation_matrix_from_zyx((val*6,val,0))\n",
    "    ROAT = ROA.transpose()\n",
    "    RAB = np.matmul(ROB, ROAT)\n",
    "    for i in range(0,18):\n",
    "        cube.rotate(RAB, center = CUBE_CENTER)\n",
    "        vis.update_geometry(cube)\n",
    "        vis.poll_events()\n",
    "        vis.update_renderer()\n",
    "        time.sleep(0.1)\n",
    "    \n",
    "    ROB = cube.get_rotation_matrix_from_zyx((val*6, val*18, 0))\n",
    "    ROC = cube.get_rotation_matrix_from_zyx((val*6, val*18, val))\n",
    "    ROBT = ROB.transpose()\n",
    "    RBC = np.matmul(ROC, ROBT)\n",
    "    for i in range(0,9):\n",
    "        cube.rotate(RBC, center = CUBE_CENTER)\n",
    "        vis.update_geometry(cube)\n",
    "        vis.poll_events()\n",
    "        vis.update_renderer()\n",
    "        time.sleep(0.1)\n",
    "        \n",
    "    vis.destroy_window()"
   ]
  },
  {
   "cell_type": "markdown",
   "metadata": {},
   "source": [
    "### Question for 2.1\n",
    "\n",
    "- In the next code cell, call the function `two_one` here showing the animation described in section 2.1."
   ]
  },
  {
   "cell_type": "code",
   "execution_count": 8,
   "metadata": {},
   "outputs": [],
   "source": [
    "#uncomment the following and add input parameters if any\n",
    "two_one('scene.pcd','cube.pcd')"
   ]
  },
  {
   "cell_type": "markdown",
   "metadata": {},
   "source": [
    "## 2.2 Euler angle & Gimbal lock\n",
    "\n",
    "Code the following yourself from scratch (Refer Craig book - Section: $Z-Y-X$ Euler angles - same conventions/notations followed).\n",
    "\n",
    "- Case 1: Given the rotation matrix $M_{given}$ below, extract Euler angles $\\alpha , \\beta ,\\gamma$. Convert it back to the rotation matrix $M_{recovered}$ from Euler angles.\n",
    "\n",
    "    $$M(\\alpha , \\beta ,\\gamma)=\\left[\\begin{array}{rrr}0.26200263 & -0.19674724 & 0.944799 \\\\0.21984631 & 0.96542533 & 0.14007684 \\\\\n",
    "    -0.93969262 & 0.17101007 & 0.29619813\\end{array}\\right] $$\n",
    "\n",
    "    After coding it from scratch, check your calculations using `scipy.spatial.transform.Rotation`. (Mandatory)\n",
    "\n",
    "- Case 2: Given the rotation matrix $N_{given}$, extract Euler angles, and convert back $N_{recovered}$.\n",
    "\n",
    "    $$N(\\alpha , \\beta ,\\gamma)=\\left[\\begin{array}{rrr}0 & -0.173648178 &  0.984807753 \\\\0 & 0.984807753 & 0.173648178 \\\\\n",
    "    -1 & 0 & 0\\end{array}\\right] $$\n",
    "\n",
    "    Again use `scipy` and check its output. If `scipy` is showing any warnings on any of the above cases, explain it in \"**Questions for 2.2**\" (last question). Write code in the next cell.\n",
    "    \n",
    "- (Optional) Case 3: Do the above two for quaternion using scipy functions, i.e. given the rotation matrix, extract quaternion and convert back."
   ]
  },
  {
   "cell_type": "code",
   "execution_count": 9,
   "metadata": {
    "deletable": false,
    "editable": false
   },
   "outputs": [],
   "source": [
    "##############################################################################\n",
    "# DON'T EDIT\n",
    "M_given =  np.array([[0.26200263, -0.19674724, 0.944799],\n",
    "                     [0.21984631, 0.96542533, 0.14007684],\n",
    "                     [-0.93969262, 0.17101007, 0.29619813]])\n",
    "\n",
    "N_given = np.array([[0,-0.173648178,0.984807753],\n",
    "                    [0, 0.984807753, 0.173648178],\n",
    "                    [-1, 0, 0]])"
   ]
  },
  {
   "cell_type": "code",
   "execution_count": 10,
   "metadata": {},
   "outputs": [],
   "source": [
    "# TODO: Do tasks described in 2.2                                            #\n",
    "##############################################################################\n",
    "\n",
    "def euler_zyx_from_rotation(R):\n",
    "    beta = np.arctan2(-R[2, 0], np.sqrt(R[0, 0] ** 2 + R[1, 0] ** 2))\n",
    "    alpha = np.arctan2(R[1, 0]/np.cos(beta), R[0, 0]/np.cos(beta))\n",
    "    gamma = np.arctan2(R[2, 1]/np.cos(beta), R[2, 2]/np.cos(beta))\n",
    "    return (alpha, beta, gamma)\n",
    "\n",
    "def rotation_from_euler_zyx(alpha, beta, gamma):\n",
    "    R = np.zeros((3, 3), dtype='double')\n",
    "    \n",
    "    R[0, 0] = np.cos(alpha) * np.cos(beta)\n",
    "    R[0, 1] = np.cos(alpha) * np.sin(beta) * np.sin(gamma) - np.sin(alpha) * np.cos(gamma)\n",
    "    R[0, 2] = np.cos(alpha) * np.sin(beta) * np.cos(gamma) + np.sin(alpha) * np.sin(gamma)\n",
    "    \n",
    "    R[1, 0] = np.sin(alpha) * np.cos(beta)\n",
    "    R[1, 1] = np.sin(alpha) * np.sin(beta) * np.sin(gamma) + np.cos(alpha) * np.cos(gamma)\n",
    "    R[1, 2] = np.sin(alpha) * np.sin(beta) * np.cos(gamma) - np.cos(alpha) * np.sin(gamma)\n",
    "    \n",
    "    R[2, 0] = -np.sin(beta)\n",
    "    R[2, 1] =  np.cos(beta) * np.sin(gamma)\n",
    "    R[2, 2] =  np.cos(beta) * np.cos(gamma)\n",
    "    \n",
    "    return R"
   ]
  },
  {
   "cell_type": "code",
   "execution_count": 11,
   "metadata": {},
   "outputs": [
    {
     "name": "stdout",
     "output_type": "stream",
     "text": [
      "Ours:\n",
      "Euler angles (zyx):  [0.6981317  1.22173048 0.52359878]\n",
      "Recovered rotation matrix:\n",
      " [[ 0.26200263 -0.19674724  0.944799  ]\n",
      " [ 0.21984631  0.96542534  0.14007684]\n",
      " [-0.93969262  0.17101007  0.29619813]]\n",
      "\n",
      "Scipy's:\n",
      "Euler angles (zyx):  [0.69813171 1.22173048 0.52359878]\n",
      "Recovered rotation matrix:\n",
      " [[ 0.26200263 -0.19674724  0.944799  ]\n",
      " [ 0.21984631  0.96542534  0.14007684]\n",
      " [-0.93969262  0.17101007  0.29619813]]\n"
     ]
    }
   ],
   "source": [
    "# Case 1\n",
    "\n",
    "# Ours\n",
    "print('Ours:')\n",
    "euler_M = euler_zyx_from_rotation(M_given)\n",
    "print('Euler angles (zyx): ', np.array(euler_M))\n",
    "M_generated = rotation_from_euler_zyx(*euler_M)\n",
    "print('Recovered rotation matrix:\\n', M_generated)\n",
    "\n",
    "# Scipy's\n",
    "print('\\nScipy\\'s:')\n",
    "bench = R.from_matrix(M_given)\n",
    "print('Euler angles (zyx): ', bench.as_euler('ZYX'))\n",
    "bench2 = R.from_euler('ZYX', bench.as_euler('ZYX'))\n",
    "print('Recovered rotation matrix:\\n', bench2.as_matrix())"
   ]
  },
  {
   "cell_type": "code",
   "execution_count": 12,
   "metadata": {},
   "outputs": [
    {
     "name": "stdout",
     "output_type": "stream",
     "text": [
      "Ours:\n",
      "Euler angles (zyx):  [0.         1.57079633 0.        ]\n",
      "Recovered rotation matrix:\n",
      " [[ 6.123234e-17  0.000000e+00  1.000000e+00]\n",
      " [ 0.000000e+00  1.000000e+00  0.000000e+00]\n",
      " [-1.000000e+00  0.000000e+00  6.123234e-17]]\n",
      "\n",
      "Scipy's:\n",
      "Euler angles (zyx):  [0.17453293 1.57079633 0.        ]\n",
      "Recovered rotation matrix:\n",
      " [[ 1.66533454e-16 -1.73648178e-01  9.84807753e-01]\n",
      " [ 2.77555756e-17  9.84807753e-01  1.73648178e-01]\n",
      " [-1.00000000e+00  0.00000000e+00  1.66533454e-16]]\n"
     ]
    },
    {
     "name": "stderr",
     "output_type": "stream",
     "text": [
      "/home/jivitesh/anaconda3/envs/mr_assignment1/lib/python3.7/site-packages/scipy/spatial/transform/rotation.py:133: UserWarning: Gimbal lock detected. Setting third angle to zero since it is not possible to uniquely determine all angles.\n",
      "  warnings.warn(\"Gimbal lock detected. Setting third angle to zero since\"\n"
     ]
    }
   ],
   "source": [
    "# Case 2\n",
    "\n",
    "# Ours\n",
    "print('Ours:')\n",
    "euler_N = euler_zyx_from_rotation(N_given)\n",
    "print('Euler angles (zyx): ', np.array(euler_N))\n",
    "N_generated = rotation_from_euler_zyx(*euler_N)\n",
    "print('Recovered rotation matrix:\\n', N_generated)\n",
    "\n",
    "# Scipy's\n",
    "print('\\nScipy\\'s:')\n",
    "bench = R.from_matrix(N_given)\n",
    "print('Euler angles (zyx): ', bench.as_euler('ZYX'))\n",
    "bench2 = R.from_euler('ZYX', bench.as_euler('ZYX'))\n",
    "print('Recovered rotation matrix:\\n', bench2.as_matrix())"
   ]
  },
  {
   "cell_type": "code",
   "execution_count": 13,
   "metadata": {},
   "outputs": [
    {
     "name": "stdout",
     "output_type": "stream",
     "text": [
      "Scipy's for M:\n",
      "Quarternions:  [0.00973605 0.59313249 0.13112033 0.79429624]\n",
      "Recovered rotation matrix:\n",
      " [[ 0.26200263 -0.19674724  0.944799  ]\n",
      " [ 0.21984631  0.96542534  0.14007684]\n",
      " [-0.93969262  0.17101007  0.29619813]]\n",
      "\n",
      "Scipy's for N:\n",
      "Quarternions:  [-0.06162842  0.70441603  0.06162842  0.70441603]\n",
      "Recovered rotation matrix:\n",
      " [[ 0.         -0.17364818  0.98480775]\n",
      " [ 0.          0.98480775  0.17364818]\n",
      " [-1.          0.          0.        ]]\n"
     ]
    }
   ],
   "source": [
    "# Case 3\n",
    "\n",
    "# Scipy's for M\n",
    "print('Scipy\\'s for M:')\n",
    "bench = R.from_matrix(M_given)\n",
    "print('Quarternions: ', str(bench.as_quat()))\n",
    "bench2 = R.from_quat(bench.as_quat())\n",
    "print('Recovered rotation matrix:\\n', bench2.as_matrix())\n",
    "\n",
    "# Scipy's for N\n",
    "print('\\nScipy\\'s for N:')\n",
    "bench = R.from_matrix(N_given)\n",
    "print('Quarternions: ', str(bench.as_quat()))\n",
    "bench2 = R.from_quat(bench.as_quat())\n",
    "print('Recovered rotation matrix:\\n', bench2.as_matrix())\n",
    "\n",
    "##############################################################################\n",
    "#                             END OF YOUR CODE                               #\n",
    "##############################################################################"
   ]
  },
  {
   "cell_type": "markdown",
   "metadata": {},
   "source": [
    "## Questions for 2.2\n",
    "- Have you used `np.arctan` or an any equivalent `atan` function above? Why or why not?   \n",
    "    * Ans: We have used `np.arctan2` to calculate the inverse tangents of the given values. As opposed to a single-argument inverse tangent function, `np.arctan2` takes in $x$ and $y$ values separately, and uses them to infer the quadrant of the angle, thus being able to output angles in the complete range $[-\\pi, \\pi)$. Single-argument inverse tangents functions lack information about the individual signs of $x$ and $y$ and hence can only return an angle within the *principal-value range* of $[-\\frac{\\pi}{2}, \\frac{\\pi}{2}).$ Because this would have restricted the output euler angles, this was avoided."
   ]
  },
  {
   "cell_type": "markdown",
   "metadata": {},
   "source": [
    "### For Case 1 above,\n",
    "- What Euler angles  $\\alpha , \\beta ,\\gamma$ did you get? Replace `my_array_case1` with your array."
   ]
  },
  {
   "cell_type": "code",
   "execution_count": 14,
   "metadata": {},
   "outputs": [
    {
     "name": "stdout",
     "output_type": "stream",
     "text": [
      "My Euler angles for case 1 are (0.6981317003487097, 1.2217304765297095, 0.5235987753730347)\n"
     ]
    }
   ],
   "source": [
    "# Uncomment and replace my_array_case1 with your array.\n",
    "print(\"My Euler angles for case 1 are \" + str(euler_M))"
   ]
  },
  {
   "cell_type": "markdown",
   "metadata": {},
   "source": [
    "  - Were you able to recover back your rotation matrix when you converted it from Euler angles? Why/why not? Replace `M_given` and `M_recovered` with your matrices below and explain \"why/why not\" after this code snippet."
   ]
  },
  {
   "cell_type": "code",
   "execution_count": 15,
   "metadata": {},
   "outputs": [
    {
     "name": "stdout",
     "output_type": "stream",
     "text": [
      "For case 1, it is True I could recover the original matrix.\n"
     ]
    }
   ],
   "source": [
    "# Uncomment and Replace M_given and M_recovered with your matrices below.\n",
    "error = np.linalg.norm(logm(M_given @ M_generated.T))\n",
    "print(\"For case 1, it is \" + str(error<0.0001) + \" I could recover the original matrix.\")"
   ]
  },
  {
   "cell_type": "markdown",
   "metadata": {},
   "source": [
    "- Why/why not? Based on your observations here, is there any problem with Euler angle representation for Case 1? If yes, what is it?\n",
    "\n",
    "    - Ans: The problem with Euler Angles is their inability to be directly used in computations and the loss of precision that occurs while performing the mathematical conversions. While Euler angles are more compact and also easier to visualise than rotation matrices, they cannot be used to compute frame or point rotations directly, making them not-so-useful for a computer."
   ]
  },
  {
   "cell_type": "markdown",
   "metadata": {},
   "source": [
    "### Repeat the above for Case 2."
   ]
  },
  {
   "cell_type": "code",
   "execution_count": 16,
   "metadata": {},
   "outputs": [
    {
     "name": "stdout",
     "output_type": "stream",
     "text": [
      "My Euler angles for case 2 are (0.0, 1.5707963267948966, 0.0)\n",
      "For case 2, it is False I could recover the original matrix.\n"
     ]
    }
   ],
   "source": [
    "# Uncomment and Replace N_given and N_recovered with your matrices below.\n",
    "print(\"My Euler angles for case 2 are \" + str(euler_N))\n",
    "error = np.linalg.norm(logm(N_given @ N_generated.T))\n",
    "print(\"For case 2, it is \" + str(error<0.0001) + \" I could recover the original matrix.\")"
   ]
  },
  {
   "cell_type": "markdown",
   "metadata": {},
   "source": [
    "* Why/why not? Based on your observations here, is there any problem with Euler angle representation for Case 2? If yes, what is it?\n",
    "\n",
    "    * We were not able to recover the rotation matrix from the Euler angles because of a gimbal lock. In case of a gimbal lock, the sequence of Euler rotations that lead to that position are not unique, hence it is not possible to uniquely determine the Euler angles. (In all other cases, Euler angles can be uniquely determined if kept within their ranges: $\\alpha, \\gamma \\in [-\\pi, \\pi)$ and $\\beta \\in [0, \\pi]$).\n",
    "    * **The reason that the function failed to find even a single sequence of Euler angle rotations out of those multiple possibilities is that a gimbal lock occurs when $\\beta = \\frac{\\pi}{2}$. In this case, $tan(\\beta)\\to\\infty$ and** `np.arctan2` **fails to perform when provided a finite** `y` **and a vanishing** `x`**. An incorrect rotation matrix followed an incorrect set of Euler angles.**\n",
    "    \n",
    "    \n",
    "* Explain any more problems with Euler angle representation. Explain what you understand by Gimbal lock (concisely in your own words). You could revisit this question in the section 2.4.\n",
    "    * The major problem with Euler angles is the phenomenon of Gimbal lock. Its cause and consequences are the following.\n",
    "    * **Cause:**\\\n",
    "    Because Euler angles are rotations about moving axes (i.e., while rotating a frame through a sequence of 3 rotations, each subsequent rotation is performed about the axes which are a result of the previous rotation), rotations about *outer* (or higher in the hierarchy) axes affect the *inner* (lower in the hierarchy) axes. This means that a rotation about the $y$ axis affects the $x$ axis, but not the $z$, allowing such a situation when $\\beta = \\frac{\\pi}{2}$:\n",
    "    <img src=\"https://user-images.githubusercontent.com/43912285/91614816-dfadc280-e99f-11ea-8612-b9474802ce85.png\" width=\"400px\">\n",
    "    \n",
    "    In this image, the $y$ (blue) axis has rotated by $\\frac{\\pi}{2}$, causing the $x$ (red) and $z$ (green) axes to align. Thus rotations about both these axes have the same effect (object rotating about the length of its fuselage, notice the pivots for both these axes). No rotation about a single axis would now allow the object to *yaw*, or turn sideways, causing a loss of a degree of freedom.\n",
    "    * **Consequences:**\\\n",
    "    Firstly, a frame in a gimbal lock loses a degree of freedom. Both the $x$ and $z$ axes now cause the object to roll about the length of its fuselage, and no axis allows it to yaw (turn towards the left or right). While it is always possible to still point it in any direction by using a combination of multiple rotations, the resulting motion would not be straight and smooth (since it has to be about multiple axes), which may be undesirable in applications such as animation.\\\n",
    "    Secondly, the alignment of the $z$ and $x$ axes means that a *yaw* (rotation about $z$) followed by a $\\pm\\frac{\\pi}{2}$ *pitch* (rotation about $y$) produces the same result as a $\\pm\\frac{\\pi}{2}$ *pitch* followed by a *roll* (rotation about $x$). Thus, Euler angles are not unique anymore, complicating their conversion to and from other representations of rotation.\n",
    "<table>\n",
    "    <tr>\n",
    "        <td>\n",
    "            <img src=\"https://user-images.githubusercontent.com/43912285/91632145-8922a180-e9fc-11ea-9064-8265224a740c.png\" height=\"200px\">\n",
    "            <center>Pitch followed by roll.</center>\n",
    "        </td>\n",
    "        <td>\n",
    "            <img src=\"https://user-images.githubusercontent.com/43912285/91632146-8aec6500-e9fc-11ea-8203-3f33e7e52a45.png\" height=\"200px\">\n",
    "            <center>Yaw followed by pitch.</center>\n",
    "        </td>\n",
    "    </tr>\n",
    "</table>\n",
    "\n",
    "*Note: Each circle in these images rotates about its diameter, the one indicated by the pivot drawn in grey.*"
   ]
  },
  {
   "cell_type": "markdown",
   "metadata": {},
   "source": [
    "- When you used `scipy.spatial.transform.Rotation` for the above 2 cases,\n",
    "    - Have you used `zyx` above in `r.as_euler('')` argument? Why or why not? Explain the difference between extrinsic and instrinsic rotations with equivalent technical names from Craig book?\n",
    "        * Ans: No, we used `'ZYX'`, and not `'zyx'` as the sequence of rotations. The former refers to *intrinsic* rotations, or rotations about moving axes (each rotation in a sequence of 3 rotations is about an axes which was affected by the previous rotation), which are defined as *Euler angles* in the book. `'zyx'`, on the other hand, refers to *extrinsic* rotations, or rotations about fixed axes (all the 3 rotations are about the original set of fixed axes), which are defined as *Fixed angles* in the book. \n",
    "    - Has `scipy` shown any warnings on any of the above cases? If yes, explain it.\n",
    "        * Ans: While finding the Euler angles for $N$, `scipy` shows a warning indicating that it has detected a gimbal lock. Because Euler angles are no longer unique, it sets $\\gamma=0$ (*roll*, or rotation about $x$) and then finds a set of Euler angles to achieve that rotation.\n",
    "    - (Optional) For Case 3 above (quaternion) which you did using scipy, did you observe any problem with quaternion? Depending on your observations, which is better? Quaternion or Euler angles? And why?\n",
    "         * Ans: Quarternions have a clear 2 to 1 mapping with rotation matrices ($q$ and $-q$ represent the same rotations in all cases), and do not suffer from degeneracies such as the gimbal lock. Thus, `scipy` was able to convert $N$ to quarternions and back, just as easily as $M$. Hence, quarternions are better than Euler angles for representing rotations for computations. However, quarternions come from a not-so-intuitive number system and are extremely hard to visualize. This is where Euler angles outperform quarternions.\n"
   ]
  },
  {
   "cell_type": "markdown",
   "metadata": {},
   "source": [
    "## 2.3 Rotation matrix as an Operator\n",
    "This question will help you in your understanding of [Rotator-transform (Vector-frame) equivalence](https://www.notion.so/saishubodh/Lecture-2-Transformations-11d69d8cef2d4cd195a98fa7d33224e1#f90ece4f5e374743bfed47e46a83ecfe).\n",
    "\n",
    "![image.png](./misc/xyz-frame.png)\n",
    "Consider the frame $XYZ$ in the above image. Say you have a vector $x_1=[0,\\sqrt{3},0]$. Now you want to rotate it such that you end up at $x_2=[1,1,1]$ through a sequence of Euler angle rotations. Your goal is to find out those $\\alpha, \\beta \\: \\& \\: \\gamma$ ($ZYX$). We will follow this order whenever we refer to it below.\n",
    "\n",
    "First, properly understand the so-called \"Rotator-transform equivalence\" to figure out what are the terms of rotation matrix. Then, put the math on paper and you will end up with a set of non-linear equations. Write the set of linear equations in LaTeX here:"
   ]
  },
  {
   "cell_type": "markdown",
   "metadata": {},
   "source": [
    "$$ \\textbf{Ans: Your set of equations here} $$\n",
    "$$ \\sqrt{3}\\sin{\\gamma} \\cos{\\beta} - 1 = 0 $$\n",
    "$$ \\sqrt{3}\\cos{\\alpha}\\cos{\\gamma} + \\sqrt{3}\\sin{\\alpha}\\sin{\\beta}\\sin{\\gamma} - 1 = 0 $$\n",
    "$$ -\\sqrt{3}\\sin{\\alpha}\\cos{\\gamma} + \\sqrt{3}\\cos{\\alpha}\\sin{\\beta}\\sin{\\gamma} - 1 = 0 $$"
   ]
  },
  {
   "cell_type": "markdown",
   "metadata": {},
   "source": [
    "Solve these equations using `fsolve` from `scipy.optimize` as follows: (Come back and answer the following questions after coding it in the next block)\n",
    "- `case1`: First, solve it with an initialization of (0,0,0). Check if your answer is correct using `np.isclose`.\n",
    "    * What Euler angles did you get? Answer in $\\alpha, \\beta \\: \\& \\: \\gamma$ format:\n",
    "        * Ans: *$a_1, b_1, c_1$ = [ -0.32906483356361393, -93.69048524053285, 0.74815097858118 ]* \n",
    "- `case2`: Now, forget about the solver for a moment: Can you visualize and think of sequence of rotations one by one to reach the final position (which is different than previous set of rotations)? Now, validate your answer by giving (your answer $\\pm 5$) as initialization.\n",
    "    * What Euler angles did you get? Answer in $\\alpha, \\beta \\: \\& \\: \\gamma$ format:\n",
    "        * Ans: *$a_2, b_2, c_2$ = [5.49778714, 0, 0.61547971]*"
   ]
  },
  {
   "cell_type": "code",
   "execution_count": 17,
   "metadata": {
    "deletable": false,
    "editable": false
   },
   "outputs": [],
   "source": [
    "##############################################################################\n",
    "# DON'T EDIT\n",
    "x_1 = np.array([0,np.sqrt(3),0])\n",
    "x_2 = np.array([1,1,1])"
   ]
  },
  {
   "cell_type": "code",
   "execution_count": 18,
   "metadata": {},
   "outputs": [
    {
     "name": "stdout",
     "output_type": "stream",
     "text": [
      "[ True  True  True]\n",
      "[ True  True  True]\n"
     ]
    }
   ],
   "source": [
    "##############################################################################\n",
    "# TODO: Do tasks described in 2.3                                            #\n",
    "#########a#####################################################################\n",
    "# Replace \"pass\" statement with your code\n",
    "def func(x):\n",
    "    return [np.sqrt(3) * np.sin(x[2]) * np.cos(x[1]) - 1,\n",
    "            np.sqrt(3) * np.cos(x[0]) * np.cos(x[2]) + np.sqrt(3) * np.sin(x[0]) * np.sin(x[1]) * np.sin(x[2]) - 1,\n",
    "            -1 * np.sqrt(3) * np.sin(x[0]) * np.cos(x[2]) + np.sqrt(3) * np.cos(x[0]) * np.sin(x[1]) * np.sin(x[2]) -1\n",
    "           ]\n",
    "\n",
    "root1 = fsolve(func, [0 ,0 ,0])\n",
    "a1, b1, c1 = root1\n",
    "print(np.isclose(func(root1), [0, 0, 0]))\n",
    "\n",
    "root2 = fsolve(func, [7*np.pi/4, 0, np.arcsin(1/np.sqrt(3))])\n",
    "a2, b2, c2 = root2\n",
    "print(np.isclose(func(root2), [0, 0, 0]))\n",
    "##############################################################################\n",
    "#                             END OF YOUR CODE                               #\n",
    "##############################################################################"
   ]
  },
  {
   "cell_type": "code",
   "execution_count": 19,
   "metadata": {},
   "outputs": [
    {
     "data": {
      "text/plain": [
       "array([5.49778714, 0.        , 0.61547971])"
      ]
     },
     "execution_count": 19,
     "metadata": {},
     "output_type": "execute_result"
    }
   ],
   "source": [
    "root2"
   ]
  },
  {
   "cell_type": "code",
   "execution_count": 20,
   "metadata": {},
   "outputs": [],
   "source": [
    "# From Section 2.2, use the function which takes Euler angles and gives Rotation matrix as output.\n",
    "# Uncomment and replace `r_mat` with the name of the function. (Do NOT edit anything else)\n",
    "x_2_obtained_case1 = rotation_from_euler_zyx(a1,b1,c1) @ x_1.T #TODO: replace r_mat\n",
    "x_2_obtained_case2 = rotation_from_euler_zyx(a2,b2,c2) @ x_1.T #TODO: replace r_mat\n",
    "test = True #TODO: Set this as True"
   ]
  },
  {
   "cell_type": "code",
   "execution_count": 21,
   "metadata": {},
   "outputs": [
    {
     "name": "stdout",
     "output_type": "stream",
     "text": [
      "For case 1, it is True that I could end up at (1,1,1) after rotation.\n",
      "For case 2, it is True that I could end up at (1,1,1) after rotation.\n"
     ]
    }
   ],
   "source": [
    "# DON'T EDIT\n",
    "if test == True:\n",
    "    case1_test = np.isclose(x_2_obtained_case1,  np.array([1.0,1.0,1.0]))\n",
    "    case2_test = np.isclose(x_2_obtained_case2,  np.array([1.0,1.0,1.0]))\n",
    "    print(\"For case 1, it is \" + str(bool(case1_test[0] and case1_test[1] and case1_test[2])) + \n",
    "          \" that I could end up at (1,1,1) after rotation.\")\n",
    "    print(\"For case 2, it is \" + str(bool(case2_test[0] and case2_test[1] and case2_test[2])) + \n",
    "          \" that I could end up at (1,1,1) after rotation.\")"
   ]
  },
  {
   "cell_type": "markdown",
   "metadata": {},
   "source": [
    "## 2.4 Gimbal Lock visualization (Optional)\n",
    "\n",
    "A nice visualization video for gimbal lock is [this](https://www.youtube.com/watch?v=zc8b2Jo7mno). You are about to animate a similar visualization demonstrating gimbal lock 😃.\n",
    "\n",
    "![image.png](./misc/xyz-frame.png)\n",
    "\n",
    "- Write a function `two_four` for the visualization of gimbal lock. Follow the below steps to get the intuition going. Use Open3D for the following.\n",
    "    - Say our frame's initial position is as the above image. Now the final goal at the end of rotation is to get the $Y$ axis pointing in the direction of the vector $(x,y,z)$ that you currently see in the above image. This point is fixed in space and is NOT moving as we rotate our axis.\n",
    "    - For creating that point, you could use a small sphere using `open3d.geometry.create_mesh_sphere`. You already know how to create an axis by now.\n",
    "    - Following our $ZYX$ convention, first rotate your frame about $Z$ axis by an angle, say $-35^{\\circ}$. Then rotate about $Y$ axis by an angle ${\\beta}$ and then about $X$ by say $55^{\\circ}$.\n",
    "        - Are there any specific angle(s) $\\beta$ using which you will **never** reach our point $(x,y,z)$ ?\n",
    "            - Clue: We are specifically talking about gimbal lock here and notice the word \"never\".\n",
    "        - Under this (these) specific angle(s) of $\\beta$ & different combinations of $\\alpha$ and $\\gamma$, make an animation and clearly show why your $Y$ axis is unable to align in the direction of that vector $(x,y,z)$ using the animation.\n",
    "\n",
    "            If you are unsure to simulate the animation, you could do it as follows:\n",
    "\n",
    "            - You could first fix some $\\alpha$, say $-35^{\\circ}$ & an above value of $\\beta$, you can now vary $\\gamma$ from $-180^{\\circ} \\text{ to }180^{\\circ}$ to simulate the animation.\n",
    "            - Now fix another $\\alpha$, say $45^{\\circ}$ and repeat the above process. So that's 2 specific values of $\\alpha$.\n",
    "            - Show this for all angles of $\\beta$ if there are more than 1.\n",
    "            - Therefore, when the code is run, there should be a minimum of (2 $\\times$ (number of values of $\\beta$)) animations. 2 for values of $\\alpha$, you could show it for even more if you wish to."
   ]
  },
  {
   "cell_type": "code",
   "execution_count": 22,
   "metadata": {},
   "outputs": [],
   "source": [
    "##############################################################################\n",
    "# TODO: Do tasks described in 2.4                                            #\n",
    "##############################################################################\n",
    "\n",
    "STEP_SIZE = np.radians(5) # degrees\n",
    "\n",
    "def get_euler(obj, current, desired):\n",
    "    current = np.array(current)\n",
    "    desired = np.array(desired)\n",
    "    \n",
    "    ROA = obj.get_rotation_matrix_from_zyx(current)\n",
    "    ROB = obj.get_rotation_matrix_from_zyx(current + desired)\n",
    "    RAB = np.matmul(ROB, ROA.transpose())\n",
    "    return RAB\n",
    "\n",
    "def animate(obj, vis, center, current, desired):\n",
    "    current = np.radians(np.array(current))\n",
    "    desired = np.radians(np.array(desired))\n",
    "    \n",
    "    step = STEP_SIZE\n",
    "    if desired[0] < 0:\n",
    "        step = -step\n",
    "    r = get_euler(obj, current, (step, 0, 0))\n",
    "    for _ in range(int(abs(desired[0])/STEP_SIZE)): # ensure divisible\n",
    "        obj.rotate(r, center=center)\n",
    "        vis.update_geometry(obj)\n",
    "        vis.poll_events()\n",
    "        vis.update_renderer()\n",
    "        time.sleep(0.15)\n",
    "    \n",
    "    current[0] += desired[0]\n",
    "    \n",
    "    step = STEP_SIZE\n",
    "    if desired[1] < 0:\n",
    "        step = -step\n",
    "    r = get_euler(obj, current, (0, step, 0))\n",
    "    for _ in range(int(abs(desired[1])/STEP_SIZE)): # ensure divisible\n",
    "        obj.rotate(r, center=center)\n",
    "        vis.update_geometry(obj)\n",
    "        vis.poll_events()\n",
    "        vis.update_renderer()\n",
    "        time.sleep(0.15)\n",
    "        \n",
    "    current[1] += desired[1]\n",
    "    \n",
    "    step = STEP_SIZE\n",
    "    if desired[2] < 0:\n",
    "        step = -step\n",
    "    r = get_euler(obj, current, (0, 0, step))\n",
    "    for _ in range(int(abs(desired[2])/STEP_SIZE)): # ensure divisible\n",
    "        obj.rotate(r, center=center)\n",
    "        vis.update_geometry(obj)\n",
    "        vis.poll_events()\n",
    "        vis.update_renderer()\n",
    "        time.sleep(0.15)"
   ]
  },
  {
   "cell_type": "code",
   "execution_count": 23,
   "metadata": {},
   "outputs": [],
   "source": [
    "FRAME_SIZE = 1\n",
    "TARGET = (FRAME_SIZE/1.3, FRAME_SIZE/1.3, FRAME_SIZE/1.3)\n",
    "TARGET_SIZE = 0.03\n",
    "\n",
    "def visualise_euler(euler_angles):\n",
    "    world_frame = o3d.geometry.TriangleMesh.create_coordinate_frame(size=FRAME_SIZE)\n",
    "    our_frame = o3d.geometry.TriangleMesh.create_coordinate_frame(size=FRAME_SIZE)\n",
    "    target = o3d.geometry.TriangleMesh.create_sphere(radius=TARGET_SIZE)\n",
    "    target.paint_uniform_color([0, 1, 1])\n",
    "    target.translate(TARGET)\n",
    "\n",
    "    vis = o3d.visualization.Visualizer()\n",
    "    vis.create_window()\n",
    "    vis.add_geometry(world_frame)\n",
    "    vis.add_geometry(our_frame)\n",
    "    vis.add_geometry(target)\n",
    "    vis.poll_events()\n",
    "    vis.update_renderer()\n",
    "\n",
    "    time.sleep(2)\n",
    "    animate(our_frame, vis, (0, 0, 0), (0, 0, 0), euler_angles)\n",
    "\n",
    "    time.sleep(2)\n",
    "    vis.destroy_window()\n",
    "\n",
    "def two_four():\n",
    "    visualise_euler((-35, 90, 360))\n",
    "    visualise_euler((-35, -90, 360))\n",
    "    visualise_euler((45, 90, 360))\n",
    "    visualise_euler((45, -90, 360))\n",
    "##############################################################################\n",
    "#                             END OF YOUR CODE                               #\n",
    "##############################################################################"
   ]
  },
  {
   "cell_type": "markdown",
   "metadata": {},
   "source": [
    "> VOILA! You have just animated the famous Gimbal lock problem. If you are curious, read about the [Apollo 11](https://en.wikipedia.org/wiki/Gimbal_lock#On_Apollo_11) Gimbal lock incident.\n",
    "\n",
    "### Questions for 2.4 (Optional)\n",
    "\n",
    "- Mention the value(s) of $\\beta$ here: \n",
    "    * Ans: Values of $\\beta$ that cause a gimbal lock are: $\\beta=\\{\\frac{\\pi}{2}, -\\frac{\\pi}{2}\\}$\n",
    "- Now that you understand gimbal lock through visualization, explain it now in matrix form: For the above values of $\\beta$, what does the rotation matrix look like? Can you explain why gimbal lock occurs from the rotation matrix alone? Clue: Use sin/cos formulae. \n",
    "    * Ans: The $Z-Y-X$ Euler angles to rotation matrix conversion looks like:\n",
    "    \n",
    "    $$\n",
    "    R_{Z'Y'X'}(\\alpha, \\beta, \\gamma) = \\left[\\begin{array}{ccc}\n",
    "    c\\alpha c\\beta & c\\alpha s\\beta s\\gamma - s\\alpha c\\gamma & c\\alpha s\\beta c\\gamma + s\\alpha s\\gamma \\\\\n",
    "    s\\alpha c\\beta & s\\alpha s\\beta s\\gamma + c\\alpha c\\gamma & s\\alpha s\\beta c\\gamma - c\\alpha s\\gamma \\\\\n",
    "           -s\\beta & c\\beta s\\gamma                           & c\\beta c\\gamma\n",
    "    \\end{array}\\right]\n",
    "    $$\n",
    "    \n",
    "    In which, on setting $\\beta=\\{\\frac{\\pi}{2}, -\\frac{\\pi}{2}\\}$, we obtain:\n",
    "    \n",
    "    $$\n",
    "    R_{Z'Y'X'}(\\alpha, \\pm\\frac{\\pi}{2}, \\gamma) = \\left[\\begin{array}{ccc}\n",
    "    0    & \\pm c\\alpha s\\gamma - s\\alpha c\\gamma & \\pm c\\alpha c\\gamma + s\\alpha s\\gamma \\\\\n",
    "    0    & \\pm s\\alpha s\\gamma + c\\alpha c\\gamma & \\pm s\\alpha c\\gamma - c\\alpha s\\gamma \\\\\n",
    "    \\mp1 & 0                                     & 0\n",
    "    \\end{array}\\right]\n",
    "    $$\n",
    "    \n",
    "    Now, this is usually converted to Euler angles using the equations:\n",
    "    \n",
    "    $$\n",
    "    \\beta = tan^{-1} \\left(-r_{31}, \\sqrt{r_{11}^{2} + r_{21}^{2}}\\right) \\\\\n",
    "    \\alpha = tan^{-1}(r_{21}/c\\beta, r_{11}/c\\beta) \\\\\n",
    "    \\gamma = tan^{-1}(r_{32}/c\\beta, r_{33}/c\\beta)\n",
    "    $$\n",
    "    \n",
    "    In our case, with $r_{11}, r_{21}=0$, we get $\\beta=\\frac{\\pi}{2}$, however the equations for $\\alpha$ and $\\gamma$ are degenerate and hence, not of much help. \n",
    "    \n",
    "    Now, for $\\beta=\\frac{\\pi}{2}$:\n",
    "    \n",
    "    $$\n",
    "    r_{12} = c\\alpha s\\gamma - s\\alpha c\\gamma = sin(\\gamma - \\alpha) \\\\\n",
    "    r_{22} = s\\alpha s\\gamma + c\\alpha c\\gamma = cos(\\gamma - \\alpha) \\\\\n",
    "    \\implies \\gamma - \\alpha = tan^{-1}(r_{12}, r_{22})\n",
    "    $$\n",
    "    \n",
    "    So, a solution is:\n",
    "    \n",
    "    $$\n",
    "    \\beta = \\frac{\\pi}{2} \\\\\n",
    "    \\alpha = 0 \\\\\n",
    "    \\gamma = tan^{-1}(r_{12}, r_{22})\n",
    "    $$\n",
    "    \n",
    "    Similarly, for $\\beta = -\\frac{\\pi}{2}$:\n",
    "    \n",
    "    $$\n",
    "    r_{12} = - c\\alpha s\\gamma - s\\alpha c\\gamma =  - sin(\\gamma + \\alpha) \\\\\n",
    "    r_{22} = - s\\alpha s\\gamma + c\\alpha c\\gamma = cos(\\gamma + \\alpha) \\\\\n",
    "    \\implies \\gamma + \\alpha = - tan^{-1}(r_{12}, r_{22})\n",
    "    $$\n",
    "    \n",
    "    So, a solution is:\n",
    "    \n",
    "    $$\n",
    "    \\beta = \\frac{\\pi}{2} \\\\\n",
    "    \\alpha = 0 \\\\\n",
    "    \\gamma = - tan^{-1}(r_{12}, r_{22})\n",
    "    $$\n",
    "    \n",
    "    Thus, in the case when $\\beta = \\pm \\frac{\\pi}{2}$, only the sum of $\\alpha$ and $\\gamma$ can be determined, and not their unique values. This leads to a gimbal lock, where rotations about $z$ and $x$ have the same effect.\n",
    "- Call the function `two_four` for the visualization of gimbal lock written above. "
   ]
  },
  {
   "cell_type": "code",
   "execution_count": null,
   "metadata": {},
   "outputs": [],
   "source": [
    "#uncomment the following and add input parameters if any\n",
    "two_four()"
   ]
  },
  {
   "cell_type": "code",
   "execution_count": null,
   "metadata": {},
   "outputs": [],
   "source": []
  }
 ],
 "metadata": {
  "celltoolbar": "Edit Metadata",
  "kernelspec": {
   "display_name": "Python 3",
   "language": "python",
   "name": "python3"
  },
  "language_info": {
   "codemirror_mode": {
    "name": "ipython",
    "version": 3
   },
   "file_extension": ".py",
   "mimetype": "text/x-python",
   "name": "python",
   "nbconvert_exporter": "python",
   "pygments_lexer": "ipython3",
   "version": "3.7.7"
  }
 },
 "nbformat": 4,
 "nbformat_minor": 4
}
